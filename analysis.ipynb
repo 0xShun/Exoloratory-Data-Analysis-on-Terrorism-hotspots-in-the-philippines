{
 "cells": [
  {
   "cell_type": "markdown",
   "metadata": {},
   "source": [
    "# Draft"
   ]
  },
  {
   "cell_type": "markdown",
   "metadata": {},
   "source": [
    "Author's notes: \n",
    "- Remove Introduction headings. Replace it with just the opening."
   ]
  },
  {
   "cell_type": "markdown",
   "metadata": {},
   "source": [
    "## Introduction\n",
    "\n",
    "Data tells stories that numbers alone cannot. In the context of the Philippines, where terrorism has left its mark on communities and shaped security policies, understanding the trends behind these incidents is vital. By diving into the data, we can uncover patterns, identify hotspots, and provide actionable insights to help address these challenges effectively."
   ]
  }
 ],
 "metadata": {
  "kernelspec": {
   "display_name": "venv",
   "language": "python",
   "name": "python3"
  },
  "language_info": {
   "name": "python",
   "version": "3.11.2"
  }
 },
 "nbformat": 4,
 "nbformat_minor": 2
}
